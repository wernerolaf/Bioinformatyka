{
 "cells": [
  {
   "cell_type": "markdown",
   "metadata": {},
   "source": [
    "same +5 diff -5 gap -2\n",
    "\n",
    "python skrypt.py -a input -b input2 -c config\n",
    "\n",
    "1. SAME\n",
    "2. DIFF\n",
    "3. GP\n",
    "4. MAX number path\n",
    "5. max seq lenght\n",
    "6. python plik"
   ]
  },
  {
   "cell_type": "code",
   "execution_count": 26,
   "metadata": {},
   "outputs": [],
   "source": [
    "def Needleman_Wunsh(SEQ1,SEQ2,GP=-2,DIFF=-5,SAME=5,MAX_SEQ_LENGTH=-1,MAX_NUMBER_OF_PATH=1):\n",
    "    if(MAX_SEQ_LENGTH<1):\n",
    "        print(\"Set MAX_SEQ_LENGTH to positive integer\")\n",
    "        return(-1)\n",
    "    elif(MAX_SEQ_LENGTH<max(len(SEQ1),len(SEQ2))):\n",
    "        print(\"MAX_SEQ_LENGTH reached\")\n",
    "        return(-1)\n",
    "    \n",
    "    \n",
    "    \n",
    "    "
   ]
  },
  {
   "cell_type": "code",
   "execution_count": 4,
   "metadata": {},
   "outputs": [],
   "source": [
    "SEQ1=\"XDDDD\""
   ]
  },
  {
   "cell_type": "code",
   "execution_count": 5,
   "metadata": {},
   "outputs": [],
   "source": [
    "SEQ2=\"XXaD\""
   ]
  },
  {
   "cell_type": "code",
   "execution_count": 17,
   "metadata": {},
   "outputs": [],
   "source": [
    "GP=-2"
   ]
  },
  {
   "cell_type": "code",
   "execution_count": 30,
   "metadata": {},
   "outputs": [],
   "source": [
    "MatrixOfValues = [[0 for x in range(len(SEQ1)+1)] for y in range(len(SEQ2)+1)] "
   ]
  },
  {
   "cell_type": "code",
   "execution_count": 21,
   "metadata": {},
   "outputs": [],
   "source": [
    "MatrixOfDirections=[[1 for x in range(len(SEQ1))] for y in range(len(SEQ2))] "
   ]
  },
  {
   "cell_type": "code",
   "execution_count": 31,
   "metadata": {},
   "outputs": [],
   "source": [
    "for i in range(len(SEQ1)+1):\n",
    "    MatrixOfValues[0][i]=i*GP"
   ]
  },
  {
   "cell_type": "code",
   "execution_count": 32,
   "metadata": {},
   "outputs": [],
   "source": [
    "for i in range(len(SEQ2)+1):\n",
    "    MatrixOfValues[i][0]=i*GP"
   ]
  },
  {
   "cell_type": "code",
   "execution_count": 33,
   "metadata": {},
   "outputs": [
    {
     "data": {
      "text/plain": [
       "[[0, -2, -4, -6, -8, -10],\n",
       " [-2, 0, 0, 0, 0, 0],\n",
       " [-4, 0, 0, 0, 0, 0],\n",
       " [-6, 0, 0, 0, 0, 0],\n",
       " [-8, 0, 0, 0, 0, 0]]"
      ]
     },
     "execution_count": 33,
     "metadata": {},
     "output_type": "execute_result"
    }
   ],
   "source": [
    "MatrixOfValues"
   ]
  },
  {
   "cell_type": "code",
   "execution_count": 27,
   "metadata": {},
   "outputs": [
    {
     "name": "stdout",
     "output_type": "stream",
     "text": [
      "Set MAX_SEQ_LENGTH to \n"
     ]
    },
    {
     "data": {
      "text/plain": [
       "-1"
      ]
     },
     "execution_count": 27,
     "metadata": {},
     "output_type": "execute_result"
    }
   ],
   "source": [
    "Needleman_Wunsh(SEQ1,SEQ2)"
   ]
  },
  {
   "cell_type": "code",
   "execution_count": 45,
   "metadata": {},
   "outputs": [],
   "source": [
    "for x in range(len(SEQ2)):\n",
    "    for y in range(len(SEQ1)):\n",
    "        left=MatrixOfValues[x+1][y]+GP\n",
    "        up=MatrixOfValues[x][y+1]+GP\n",
    "        if(SEQ2[x]==SEQ1[y]):\n",
    "            slant=MatrixOfValues[x][y]+SAME\n",
    "        else:\n",
    "            slant=MatrixOfValues[x][y]+DIFF\n",
    "    \n",
    "        newValue=max(left,up,slant)\n",
    "        MatrixOfValues[x+1][y+1]=newValue\n",
    "        if(newValue==left):\n",
    "            MatrixOfDirections[x][y]*=2\n",
    "        if(newValue==slant):\n",
    "            MatrixOfDirections[x][y]*=3\n",
    "        if(newValue==up):\n",
    "            MatrixOfDirections[x][y]*=5"
   ]
  },
  {
   "cell_type": "code",
   "execution_count": 46,
   "metadata": {},
   "outputs": [
    {
     "data": {
      "text/plain": [
       "[[0, -2, -4, -6, -8, -10],\n",
       " [-2, 5, 3, 1, -1, -3],\n",
       " [-4, 3, 10, 8, 6, 4],\n",
       " [-6, 1, 8, 15, 13, 11],\n",
       " [-8, -1, 6, 13, 20, 18]]"
      ]
     },
     "execution_count": 46,
     "metadata": {},
     "output_type": "execute_result"
    }
   ],
   "source": [
    "MatrixOfValues"
   ]
  },
  {
   "cell_type": "code",
   "execution_count": 47,
   "metadata": {},
   "outputs": [
    {
     "data": {
      "text/plain": [
       "[[3, 6, 6, 6, 6], [15, 3, 6, 6, 6], [15, 15, 3, 6, 6], [15, 15, 15, 3, 6]]"
      ]
     },
     "execution_count": 47,
     "metadata": {},
     "output_type": "execute_result"
    }
   ],
   "source": [
    "MatrixOfDirections"
   ]
  },
  {
   "cell_type": "code",
   "execution_count": 55,
   "metadata": {},
   "outputs": [],
   "source": [
    "def traverse(MatrixOfDirections):\n",
    "    rows=len(MatrixOfDirections)\n",
    "    columns=len(MatrixOfDirections[0])\n",
    "    def _traverse(x,y,text):\n",
    "        if(MatrixOfDirections[x,y] % 5 == 0):\n",
    "            _traverse()\n",
    "    \n",
    "    "
   ]
  },
  {
   "cell_type": "code",
   "execution_count": 58,
   "metadata": {},
   "outputs": [
    {
     "data": {
      "text/plain": [
       "5"
      ]
     },
     "execution_count": 58,
     "metadata": {},
     "output_type": "execute_result"
    }
   ],
   "source": [
    "len(MatrixOfDirections[0])"
   ]
  }
 ],
 "metadata": {
  "kernelspec": {
   "display_name": "Python 3",
   "language": "python",
   "name": "python3"
  },
  "language_info": {
   "codemirror_mode": {
    "name": "ipython",
    "version": 3
   },
   "file_extension": ".py",
   "mimetype": "text/x-python",
   "name": "python",
   "nbconvert_exporter": "python",
   "pygments_lexer": "ipython3",
   "version": "3.7.4"
  }
 },
 "nbformat": 4,
 "nbformat_minor": 2
}
