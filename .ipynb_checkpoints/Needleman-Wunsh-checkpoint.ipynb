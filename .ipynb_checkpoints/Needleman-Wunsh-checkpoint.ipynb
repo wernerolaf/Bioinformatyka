{
 "cells": [
  {
   "cell_type": "markdown",
   "metadata": {},
   "source": [
    "same +5 diff -5 gap -2\n",
    "\n",
    "python skrypt.py -a input -b input2 -c config\n",
    "\n",
    "1. SAME\n",
    "2. DIFF\n",
    "3. GP\n",
    "4. MAX number path\n",
    "5. max seq lenght\n",
    "6. python plik"
   ]
  },
  {
   "cell_type": "code",
   "execution_count": 2,
   "metadata": {},
   "outputs": [],
   "source": [
    "def Needleman_Wunsh(SEQ1,SEQ2,GP=-2,DIFF=-5,SAME=5,MAX_SEQ_LENGTH=-1,MAX_NUMBER_OF_PATH=1):\n",
    "    if(MAX_SEQ_LENGTH<1):\n",
    "        print(\"Set MAX_SEQ_LENGTH to positive integer\")\n",
    "        return(-1)\n",
    "    elif(MAX_SEQ_LENGTH<max(len(SEQ1),len(SEQ2))):\n",
    "        print(\"MAX_SEQ_LENGTH reached\")\n",
    "        return(-1)\n",
    "    \n",
    "    \n",
    "    \n",
    "    "
   ]
  },
  {
   "cell_type": "code",
   "execution_count": 3,
   "metadata": {},
   "outputs": [],
   "source": [
    "SEQ1=\"SMART\""
   ]
  },
  {
   "cell_type": "code",
   "execution_count": 4,
   "metadata": {},
   "outputs": [],
   "source": [
    "SEQ2=\"MARS\""
   ]
  },
  {
   "cell_type": "code",
   "execution_count": 5,
   "metadata": {},
   "outputs": [],
   "source": [
    "GP=-2"
   ]
  },
  {
   "cell_type": "code",
   "execution_count": 6,
   "metadata": {},
   "outputs": [],
   "source": [
    "SAME=5"
   ]
  },
  {
   "cell_type": "code",
   "execution_count": 7,
   "metadata": {},
   "outputs": [],
   "source": [
    "DIFF=-5"
   ]
  },
  {
   "cell_type": "code",
   "execution_count": 8,
   "metadata": {},
   "outputs": [],
   "source": [
    "MatrixOfValues = [[0 for x in range(len(SEQ1)+1)] for y in range(len(SEQ2)+1)] "
   ]
  },
  {
   "cell_type": "code",
   "execution_count": 9,
   "metadata": {},
   "outputs": [],
   "source": [
    "MatrixOfDirections=[[1 for x in range(len(SEQ1))] for y in range(len(SEQ2))] "
   ]
  },
  {
   "cell_type": "code",
   "execution_count": 10,
   "metadata": {},
   "outputs": [],
   "source": [
    "for i in range(len(SEQ1)+1):\n",
    "    MatrixOfValues[0][i]=i*GP"
   ]
  },
  {
   "cell_type": "code",
   "execution_count": 11,
   "metadata": {},
   "outputs": [],
   "source": [
    "for i in range(len(SEQ2)+1):\n",
    "    MatrixOfValues[i][0]=i*GP"
   ]
  },
  {
   "cell_type": "code",
   "execution_count": 12,
   "metadata": {},
   "outputs": [
    {
     "data": {
      "text/plain": [
       "[[0, -2, -4, -6, -8, -10],\n",
       " [-2, 0, 0, 0, 0, 0],\n",
       " [-4, 0, 0, 0, 0, 0],\n",
       " [-6, 0, 0, 0, 0, 0],\n",
       " [-8, 0, 0, 0, 0, 0]]"
      ]
     },
     "execution_count": 12,
     "metadata": {},
     "output_type": "execute_result"
    }
   ],
   "source": [
    "MatrixOfValues"
   ]
  },
  {
   "cell_type": "code",
   "execution_count": 13,
   "metadata": {},
   "outputs": [
    {
     "name": "stdout",
     "output_type": "stream",
     "text": [
      "Set MAX_SEQ_LENGTH to positive integer\n"
     ]
    },
    {
     "data": {
      "text/plain": [
       "-1"
      ]
     },
     "execution_count": 13,
     "metadata": {},
     "output_type": "execute_result"
    }
   ],
   "source": [
    "Needleman_Wunsh(SEQ1,SEQ2)"
   ]
  },
  {
   "cell_type": "code",
   "execution_count": 14,
   "metadata": {},
   "outputs": [],
   "source": [
    "for x in range(len(SEQ2)):\n",
    "    for y in range(len(SEQ1)):\n",
    "        left=MatrixOfValues[x+1][y]+GP\n",
    "        up=MatrixOfValues[x][y+1]+GP\n",
    "        if(SEQ2[x]==SEQ1[y]):\n",
    "            slant=MatrixOfValues[x][y]+SAME\n",
    "        else:\n",
    "            slant=MatrixOfValues[x][y]+DIFF\n",
    "    \n",
    "        newValue=max(left,up,slant)\n",
    "        MatrixOfValues[x+1][y+1]=newValue\n",
    "        if(newValue==left):\n",
    "            MatrixOfDirections[x][y]*=2\n",
    "        if(newValue==slant):\n",
    "            MatrixOfDirections[x][y]*=3\n",
    "        if(newValue==up):\n",
    "            MatrixOfDirections[x][y]*=5"
   ]
  },
  {
   "cell_type": "code",
   "execution_count": 15,
   "metadata": {},
   "outputs": [
    {
     "data": {
      "text/plain": [
       "[[0, -2, -4, -6, -8, -10],\n",
       " [-2, -4, 3, 1, -1, -3],\n",
       " [-4, -6, 1, 8, 6, 4],\n",
       " [-6, -8, -1, 6, 13, 11],\n",
       " [-8, -1, -3, 4, 11, 9]]"
      ]
     },
     "execution_count": 15,
     "metadata": {},
     "output_type": "execute_result"
    }
   ],
   "source": [
    "MatrixOfValues"
   ]
  },
  {
   "cell_type": "code",
   "execution_count": 16,
   "metadata": {},
   "outputs": [
    {
     "data": {
      "text/plain": [
       "[[10, 3, 2, 2, 2], [10, 5, 3, 2, 2], [10, 5, 5, 3, 2], [3, 10, 5, 5, 10]]"
      ]
     },
     "execution_count": 16,
     "metadata": {},
     "output_type": "execute_result"
    }
   ],
   "source": [
    "MatrixOfDirections"
   ]
  },
  {
   "cell_type": "code",
   "execution_count": 17,
   "metadata": {},
   "outputs": [],
   "source": [
    "def traverse(MatrixOfDirections,MAX_NUMBER_OF_PATH):\n",
    "    rows=len(MatrixOfDirections)\n",
    "    columns=len(MatrixOfDirections[0])\n",
    "    solutions=[]\n",
    "    foundSolutions=0\n",
    "    def _traverse(x,y,text1,text2):\n",
    "        nonlocal foundSolutions\n",
    "        if foundSolutions>=MAX_NUMBER_OF_PATH:\n",
    "            return\n",
    "        elif y==-1:\n",
    "            solutions.append([(x+1)*\"_\"+text1,SEQ2[:x+1]+text2])\n",
    "            foundSolutions+=1\n",
    "        elif x==-1:\n",
    "            solutions.append([SEQ1[:y+1]+text1,(y+1)*\"_\"+text2])\n",
    "            foundSolutions+=1\n",
    "        else:\n",
    "            if(MatrixOfDirections[x][y] % 2 == 0):\n",
    "                _traverse(x,y-1,SEQ1[y]+text1,\"_\"+text2)\n",
    "        \n",
    "            if(MatrixOfDirections[x][y] % 5 == 0):\n",
    "                _traverse(x-1,y,\"_\"+text1,SEQ2[x]+text2)\n",
    "                \n",
    "            if(MatrixOfDirections[x][y] % 3 == 0):\n",
    "                _traverse(x-1,y-1,SEQ1[y]+text1,SEQ2[x]+text2)\n",
    "    \n",
    "    _traverse(rows-1,columns-1,\"\",\"\")\n",
    "    return(solutions)"
   ]
  },
  {
   "cell_type": "code",
   "execution_count": 18,
   "metadata": {},
   "outputs": [],
   "source": [
    "MAX_NUMBER_OF_PATH=1"
   ]
  },
  {
   "cell_type": "code",
   "execution_count": 24,
   "metadata": {},
   "outputs": [],
   "source": [
    "solutions=traverse(MatrixOfDirections,MAX_NUMBER_OF_PATH=2)"
   ]
  },
  {
   "cell_type": "code",
   "execution_count": 25,
   "metadata": {},
   "outputs": [
    {
     "data": {
      "text/plain": [
       "[['SMAR_T', '_MARS_'], ['SMART_', '_MAR_S']]"
      ]
     },
     "execution_count": 25,
     "metadata": {},
     "output_type": "execute_result"
    }
   ],
   "source": [
    "solutions"
   ]
  },
  {
   "cell_type": "code",
   "execution_count": 28,
   "metadata": {},
   "outputs": [],
   "source": [
    "def write_SEQ(solutions):\n",
    "    f=open(\"solutions.txt\", \"w\")\n",
    "    f.write(\"Score:{}\\n\".format(MatrixOfValues[len(SEQ2)][len(SEQ1)]))\n",
    "    for solution in solutions:\n",
    "        f.write(solution[0])\n",
    "        f.write(\"\\n\")\n",
    "        f.write(solution[1])\n",
    "        f.write(\"\\n\\n\")\n",
    "        \n",
    "    f.close()"
   ]
  },
  {
   "cell_type": "code",
   "execution_count": 22,
   "metadata": {},
   "outputs": [
    {
     "data": {
      "text/plain": [
       "'Score:9'"
      ]
     },
     "execution_count": 22,
     "metadata": {},
     "output_type": "execute_result"
    }
   ],
   "source": [
    "\"Score:{}\".format(MatrixOfValues[len(SEQ2)][len(SEQ1)])"
   ]
  },
  {
   "cell_type": "code",
   "execution_count": 29,
   "metadata": {},
   "outputs": [],
   "source": [
    "write_SEQ(solutions)"
   ]
  },
  {
   "cell_type": "code",
   "execution_count": 30,
   "metadata": {},
   "outputs": [],
   "source": [
    "def Needleman_Wunsh(SEQ1,SEQ2,GP=-2,DIFF=-5,SAME=5,MAX_SEQ_LENGTH=-1,MAX_NUMBER_OF_PATH=1):\n",
    "    #checking arguments\n",
    "    if(MAX_SEQ_LENGTH<1):\n",
    "        print(\"Set MAX_SEQ_LENGTH to positive integer\")\n",
    "        return\n",
    "    elif(MAX_SEQ_LENGTH<max(len(SEQ1),len(SEQ2))):\n",
    "        print(\"MAX_SEQ_LENGTH reached\")\n",
    "        return\n",
    "    \n",
    "    def traverse_MatrixOfDirections(MatrixOfDirections,MAX_NUMBER_OF_PATH):\n",
    "        rows=len(MatrixOfDirections)\n",
    "        columns=len(MatrixOfDirections[0])\n",
    "        solutions=[]\n",
    "        foundSolutions=0\n",
    "        def _traverse(x,y,text1,text2):\n",
    "            nonlocal foundSolutions\n",
    "            if foundSolutions>=MAX_NUMBER_OF_PATH:\n",
    "                return\n",
    "            elif y==-1:\n",
    "                solutions.append([(x+1)*\"_\"+text1,SEQ2[:x+1]+text2])\n",
    "                foundSolutions+=1\n",
    "            elif x==-1:\n",
    "                solutions.append([SEQ1[:y+1]+text1,(y+1)*\"_\"+text2])\n",
    "                foundSolutions+=1\n",
    "            else:\n",
    "                if(MatrixOfDirections[x][y] % 2 == 0):\n",
    "                    _traverse(x,y-1,SEQ1[y]+text1,\"_\"+text2)\n",
    "\n",
    "                if(MatrixOfDirections[x][y] % 5 == 0):\n",
    "                    _traverse(x-1,y,\"_\"+text1,SEQ2[x]+text2)\n",
    "\n",
    "                if(MatrixOfDirections[x][y] % 3 == 0):\n",
    "                    _traverse(x-1,y-1,SEQ1[y]+text1,SEQ2[x]+text2)\n",
    "\n",
    "        _traverse(rows-1,columns-1,\"\",\"\")\n",
    "        return(solutions)\n",
    "    \n",
    "    def write_solutions(solutions):\n",
    "        f=open(\"solutions.txt\", \"w\")\n",
    "        f.write(\"Score:{}\\n\".format(MatrixOfValues[len(SEQ2)][len(SEQ1)]))\n",
    "        for solution in solutions:\n",
    "            f.write(solution[0])\n",
    "            f.write(\"\\n\")\n",
    "            f.write(solution[1])\n",
    "            f.write(\"\\n\\n\")\n",
    "\n",
    "        f.close()\n",
    "    \n",
    "    #setting up needed matrices\n",
    "    MatrixOfValues = [[0 for x in range(len(SEQ1)+1)] for y in range(len(SEQ2)+1)] \n",
    "    for i in range(len(SEQ1)+1):\n",
    "        MatrixOfValues[0][i]=i*GP\n",
    "    \n",
    "    for i in range(len(SEQ2)+1):\n",
    "        MatrixOfValues[i][0]=i*GP\n",
    "    \n",
    "    MatrixOfDirections=[[1 for x in range(len(SEQ1))] for y in range(len(SEQ2))]\n",
    "    \n",
    "    #calculating values and updating directions\n",
    "    for x in range(len(SEQ2)):\n",
    "        for y in range(len(SEQ1)):\n",
    "            left=MatrixOfValues[x+1][y]+GP\n",
    "            up=MatrixOfValues[x][y+1]+GP\n",
    "            if(SEQ2[x]==SEQ1[y]):\n",
    "                slant=MatrixOfValues[x][y]+SAME\n",
    "            else:\n",
    "                slant=MatrixOfValues[x][y]+DIFF\n",
    "\n",
    "            newValue=max(left,up,slant)\n",
    "            MatrixOfValues[x+1][y+1]=newValue\n",
    "            if(newValue==left):\n",
    "                MatrixOfDirections[x][y]*=2\n",
    "            if(newValue==slant):\n",
    "                MatrixOfDirections[x][y]*=3\n",
    "            if(newValue==up):\n",
    "                MatrixOfDirections[x][y]*=5\n",
    "    \n",
    "    #creating solution based on MatrixOfDirections\n",
    "    solutions=traverse_MatrixOfDirections(MatrixOfDirections,MAX_NUMBER_OF_PATH)\n",
    "    #writing solutions\n",
    "    write_solutions(solutions)\n",
    "    \n",
    "    "
   ]
  },
  {
   "cell_type": "code",
   "execution_count": 31,
   "metadata": {},
   "outputs": [
    {
     "name": "stdout",
     "output_type": "stream",
     "text": [
      "Set MAX_SEQ_LENGTH to positive integer\n"
     ]
    },
    {
     "data": {
      "text/plain": [
       "()"
      ]
     },
     "execution_count": 31,
     "metadata": {},
     "output_type": "execute_result"
    }
   ],
   "source": [
    "Needleman_Wunsh(SEQ1,SEQ2)"
   ]
  }
 ],
 "metadata": {
  "kernelspec": {
   "display_name": "Python 3",
   "language": "python",
   "name": "python3"
  },
  "language_info": {
   "codemirror_mode": {
    "name": "ipython",
    "version": 3
   },
   "file_extension": ".py",
   "mimetype": "text/x-python",
   "name": "python",
   "nbconvert_exporter": "python",
   "pygments_lexer": "ipython3",
   "version": "3.7.4"
  }
 },
 "nbformat": 4,
 "nbformat_minor": 2
}
