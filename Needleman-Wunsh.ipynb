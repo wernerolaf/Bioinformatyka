{
 "cells": [
  {
   "cell_type": "markdown",
   "metadata": {},
   "source": [
    "same +5 diff +5 gap -2\n",
    "\n",
    "python skrypt.py -a input -b input2 -c config\n",
    "\n",
    "1. SAME\n",
    "2. DIFF\n",
    "3. GP\n",
    "4. MAX number path\n",
    "5. max seq lenght\n",
    "6. python plik"
   ]
  },
  {
   "cell_type": "code",
   "execution_count": null,
   "metadata": {},
   "outputs": [],
   "source": []
  }
 ],
 "metadata": {
  "kernelspec": {
   "display_name": "Python 3",
   "language": "python",
   "name": "python3"
  },
  "language_info": {
   "codemirror_mode": {
    "name": "ipython",
    "version": 3
   },
   "file_extension": ".py",
   "mimetype": "text/x-python",
   "name": "python",
   "nbconvert_exporter": "python",
   "pygments_lexer": "ipython3",
   "version": "3.7.4"
  }
 },
 "nbformat": 4,
 "nbformat_minor": 2
}
